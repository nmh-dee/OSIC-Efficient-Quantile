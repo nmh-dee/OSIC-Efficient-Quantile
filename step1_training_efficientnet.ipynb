{
  "nbformat": 4,
  "nbformat_minor": 0,
  "metadata": {
    "kernelspec": {
      "name": "python3",
      "display_name": "Python 3",
      "language": "python"
    },
    "language_info": {
      "name": "python",
      "version": "3.7.6",
      "mimetype": "text/x-python",
      "codemirror_mode": {
        "name": "ipython",
        "version": 3
      },
      "pygments_lexer": "ipython3",
      "nbconvert_exporter": "python",
      "file_extension": ".py"
    },
    "colab": {
      "name": "step1-training-efficientnet.ipynb",
      "provenance": [],
      "collapsed_sections": []
    },
    "accelerator": "GPU",
    "widgets": {
      "application/vnd.jupyter.widget-state+json": {
        "e9f215204a2e4d069135dc24e97b4b0e": {
          "model_module": "@jupyter-widgets/controls",
          "model_name": "HBoxModel",
          "state": {
            "_view_name": "HBoxView",
            "_dom_classes": [],
            "_model_name": "HBoxModel",
            "_view_module": "@jupyter-widgets/controls",
            "_model_module_version": "1.5.0",
            "_view_count": null,
            "_view_module_version": "1.5.0",
            "box_style": "",
            "layout": "IPY_MODEL_bdc18161670a4c58bcd18c59dab5e318",
            "_model_module": "@jupyter-widgets/controls",
            "children": [
              "IPY_MODEL_c2c3d906e27e4c2ab828dc5c87677b8b",
              "IPY_MODEL_d4c34c306959424e979319c30812f623"
            ]
          }
        },
        "bdc18161670a4c58bcd18c59dab5e318": {
          "model_module": "@jupyter-widgets/base",
          "model_name": "LayoutModel",
          "state": {
            "_view_name": "LayoutView",
            "grid_template_rows": null,
            "right": null,
            "justify_content": null,
            "_view_module": "@jupyter-widgets/base",
            "overflow": null,
            "_model_module_version": "1.2.0",
            "_view_count": null,
            "flex_flow": null,
            "width": null,
            "min_width": null,
            "border": null,
            "align_items": null,
            "bottom": null,
            "_model_module": "@jupyter-widgets/base",
            "top": null,
            "grid_column": null,
            "overflow_y": null,
            "overflow_x": null,
            "grid_auto_flow": null,
            "grid_area": null,
            "grid_template_columns": null,
            "flex": null,
            "_model_name": "LayoutModel",
            "justify_items": null,
            "grid_row": null,
            "max_height": null,
            "align_content": null,
            "visibility": null,
            "align_self": null,
            "height": null,
            "min_height": null,
            "padding": null,
            "grid_auto_rows": null,
            "grid_gap": null,
            "max_width": null,
            "order": null,
            "_view_module_version": "1.2.0",
            "grid_template_areas": null,
            "object_position": null,
            "object_fit": null,
            "grid_auto_columns": null,
            "margin": null,
            "display": null,
            "left": null
          }
        },
        "c2c3d906e27e4c2ab828dc5c87677b8b": {
          "model_module": "@jupyter-widgets/controls",
          "model_name": "FloatProgressModel",
          "state": {
            "_view_name": "ProgressView",
            "style": "IPY_MODEL_af2e1e306a2d42d6b4e0a84cce4b1e31",
            "_dom_classes": [],
            "description": "",
            "_model_name": "FloatProgressModel",
            "bar_style": "success",
            "max": 1,
            "_view_module": "@jupyter-widgets/controls",
            "_model_module_version": "1.5.0",
            "value": 1,
            "_view_count": null,
            "_view_module_version": "1.5.0",
            "orientation": "horizontal",
            "min": 0,
            "description_tooltip": null,
            "_model_module": "@jupyter-widgets/controls",
            "layout": "IPY_MODEL_6930a1544d674b80a820109ed99e66ac"
          }
        },
        "d4c34c306959424e979319c30812f623": {
          "model_module": "@jupyter-widgets/controls",
          "model_name": "HTMLModel",
          "state": {
            "_view_name": "HTMLView",
            "style": "IPY_MODEL_d9c1d44375f14dca8c0de58ebcc09eb4",
            "_dom_classes": [],
            "description": "",
            "_model_name": "HTMLModel",
            "placeholder": "​",
            "_view_module": "@jupyter-widgets/controls",
            "_model_module_version": "1.5.0",
            "value": " 176/? [06:59&lt;00:00,  2.39s/it]",
            "_view_count": null,
            "_view_module_version": "1.5.0",
            "description_tooltip": null,
            "_model_module": "@jupyter-widgets/controls",
            "layout": "IPY_MODEL_48f417ec5e134f34ae725c065d7ac92d"
          }
        },
        "af2e1e306a2d42d6b4e0a84cce4b1e31": {
          "model_module": "@jupyter-widgets/controls",
          "model_name": "ProgressStyleModel",
          "state": {
            "_view_name": "StyleView",
            "_model_name": "ProgressStyleModel",
            "description_width": "initial",
            "_view_module": "@jupyter-widgets/base",
            "_model_module_version": "1.5.0",
            "_view_count": null,
            "_view_module_version": "1.2.0",
            "bar_color": null,
            "_model_module": "@jupyter-widgets/controls"
          }
        },
        "6930a1544d674b80a820109ed99e66ac": {
          "model_module": "@jupyter-widgets/base",
          "model_name": "LayoutModel",
          "state": {
            "_view_name": "LayoutView",
            "grid_template_rows": null,
            "right": null,
            "justify_content": null,
            "_view_module": "@jupyter-widgets/base",
            "overflow": null,
            "_model_module_version": "1.2.0",
            "_view_count": null,
            "flex_flow": null,
            "width": null,
            "min_width": null,
            "border": null,
            "align_items": null,
            "bottom": null,
            "_model_module": "@jupyter-widgets/base",
            "top": null,
            "grid_column": null,
            "overflow_y": null,
            "overflow_x": null,
            "grid_auto_flow": null,
            "grid_area": null,
            "grid_template_columns": null,
            "flex": null,
            "_model_name": "LayoutModel",
            "justify_items": null,
            "grid_row": null,
            "max_height": null,
            "align_content": null,
            "visibility": null,
            "align_self": null,
            "height": null,
            "min_height": null,
            "padding": null,
            "grid_auto_rows": null,
            "grid_gap": null,
            "max_width": null,
            "order": null,
            "_view_module_version": "1.2.0",
            "grid_template_areas": null,
            "object_position": null,
            "object_fit": null,
            "grid_auto_columns": null,
            "margin": null,
            "display": null,
            "left": null
          }
        },
        "d9c1d44375f14dca8c0de58ebcc09eb4": {
          "model_module": "@jupyter-widgets/controls",
          "model_name": "DescriptionStyleModel",
          "state": {
            "_view_name": "StyleView",
            "_model_name": "DescriptionStyleModel",
            "description_width": "",
            "_view_module": "@jupyter-widgets/base",
            "_model_module_version": "1.5.0",
            "_view_count": null,
            "_view_module_version": "1.2.0",
            "_model_module": "@jupyter-widgets/controls"
          }
        },
        "48f417ec5e134f34ae725c065d7ac92d": {
          "model_module": "@jupyter-widgets/base",
          "model_name": "LayoutModel",
          "state": {
            "_view_name": "LayoutView",
            "grid_template_rows": null,
            "right": null,
            "justify_content": null,
            "_view_module": "@jupyter-widgets/base",
            "overflow": null,
            "_model_module_version": "1.2.0",
            "_view_count": null,
            "flex_flow": null,
            "width": null,
            "min_width": null,
            "border": null,
            "align_items": null,
            "bottom": null,
            "_model_module": "@jupyter-widgets/base",
            "top": null,
            "grid_column": null,
            "overflow_y": null,
            "overflow_x": null,
            "grid_auto_flow": null,
            "grid_area": null,
            "grid_template_columns": null,
            "flex": null,
            "_model_name": "LayoutModel",
            "justify_items": null,
            "grid_row": null,
            "max_height": null,
            "align_content": null,
            "visibility": null,
            "align_self": null,
            "height": null,
            "min_height": null,
            "padding": null,
            "grid_auto_rows": null,
            "grid_gap": null,
            "max_width": null,
            "order": null,
            "_view_module_version": "1.2.0",
            "grid_template_areas": null,
            "object_position": null,
            "object_fit": null,
            "grid_auto_columns": null,
            "margin": null,
            "display": null,
            "left": null
          }
        },
        "8c534b138f7845bb93a15db955721799": {
          "model_module": "@jupyter-widgets/controls",
          "model_name": "HBoxModel",
          "state": {
            "_view_name": "HBoxView",
            "_dom_classes": [],
            "_model_name": "HBoxModel",
            "_view_module": "@jupyter-widgets/controls",
            "_model_module_version": "1.5.0",
            "_view_count": null,
            "_view_module_version": "1.5.0",
            "box_style": "",
            "layout": "IPY_MODEL_1eb1563c67d24490af72c3d9fd6a7c37",
            "_model_module": "@jupyter-widgets/controls",
            "children": [
              "IPY_MODEL_b8609b8a5942471ab8d4525209419a64",
              "IPY_MODEL_5814ca28b5374b68ae5f928da71e433d"
            ]
          }
        },
        "1eb1563c67d24490af72c3d9fd6a7c37": {
          "model_module": "@jupyter-widgets/base",
          "model_name": "LayoutModel",
          "state": {
            "_view_name": "LayoutView",
            "grid_template_rows": null,
            "right": null,
            "justify_content": null,
            "_view_module": "@jupyter-widgets/base",
            "overflow": null,
            "_model_module_version": "1.2.0",
            "_view_count": null,
            "flex_flow": null,
            "width": null,
            "min_width": null,
            "border": null,
            "align_items": null,
            "bottom": null,
            "_model_module": "@jupyter-widgets/base",
            "top": null,
            "grid_column": null,
            "overflow_y": null,
            "overflow_x": null,
            "grid_auto_flow": null,
            "grid_area": null,
            "grid_template_columns": null,
            "flex": null,
            "_model_name": "LayoutModel",
            "justify_items": null,
            "grid_row": null,
            "max_height": null,
            "align_content": null,
            "visibility": null,
            "align_self": null,
            "height": null,
            "min_height": null,
            "padding": null,
            "grid_auto_rows": null,
            "grid_gap": null,
            "max_width": null,
            "order": null,
            "_view_module_version": "1.2.0",
            "grid_template_areas": null,
            "object_position": null,
            "object_fit": null,
            "grid_auto_columns": null,
            "margin": null,
            "display": null,
            "left": null
          }
        },
        "b8609b8a5942471ab8d4525209419a64": {
          "model_module": "@jupyter-widgets/controls",
          "model_name": "FloatProgressModel",
          "state": {
            "_view_name": "ProgressView",
            "style": "IPY_MODEL_21d100363e58497fad7d284632f364be",
            "_dom_classes": [],
            "description": "100%",
            "_model_name": "FloatProgressModel",
            "bar_style": "success",
            "max": 176,
            "_view_module": "@jupyter-widgets/controls",
            "_model_module_version": "1.5.0",
            "value": 176,
            "_view_count": null,
            "_view_module_version": "1.5.0",
            "orientation": "horizontal",
            "min": 0,
            "description_tooltip": null,
            "_model_module": "@jupyter-widgets/controls",
            "layout": "IPY_MODEL_a6938402d8a944b99ecdc1b44a9b5a2e"
          }
        },
        "5814ca28b5374b68ae5f928da71e433d": {
          "model_module": "@jupyter-widgets/controls",
          "model_name": "HTMLModel",
          "state": {
            "_view_name": "HTMLView",
            "style": "IPY_MODEL_c491870500ec4e608f264521c7cba1c6",
            "_dom_classes": [],
            "description": "",
            "_model_name": "HTMLModel",
            "placeholder": "​",
            "_view_module": "@jupyter-widgets/controls",
            "_model_module_version": "1.5.0",
            "value": " 176/176 [06:23&lt;00:00,  2.18s/it]",
            "_view_count": null,
            "_view_module_version": "1.5.0",
            "description_tooltip": null,
            "_model_module": "@jupyter-widgets/controls",
            "layout": "IPY_MODEL_9313c32a4df143d8a77df3ece0a7b469"
          }
        },
        "21d100363e58497fad7d284632f364be": {
          "model_module": "@jupyter-widgets/controls",
          "model_name": "ProgressStyleModel",
          "state": {
            "_view_name": "StyleView",
            "_model_name": "ProgressStyleModel",
            "description_width": "initial",
            "_view_module": "@jupyter-widgets/base",
            "_model_module_version": "1.5.0",
            "_view_count": null,
            "_view_module_version": "1.2.0",
            "bar_color": null,
            "_model_module": "@jupyter-widgets/controls"
          }
        },
        "a6938402d8a944b99ecdc1b44a9b5a2e": {
          "model_module": "@jupyter-widgets/base",
          "model_name": "LayoutModel",
          "state": {
            "_view_name": "LayoutView",
            "grid_template_rows": null,
            "right": null,
            "justify_content": null,
            "_view_module": "@jupyter-widgets/base",
            "overflow": null,
            "_model_module_version": "1.2.0",
            "_view_count": null,
            "flex_flow": null,
            "width": null,
            "min_width": null,
            "border": null,
            "align_items": null,
            "bottom": null,
            "_model_module": "@jupyter-widgets/base",
            "top": null,
            "grid_column": null,
            "overflow_y": null,
            "overflow_x": null,
            "grid_auto_flow": null,
            "grid_area": null,
            "grid_template_columns": null,
            "flex": null,
            "_model_name": "LayoutModel",
            "justify_items": null,
            "grid_row": null,
            "max_height": null,
            "align_content": null,
            "visibility": null,
            "align_self": null,
            "height": null,
            "min_height": null,
            "padding": null,
            "grid_auto_rows": null,
            "grid_gap": null,
            "max_width": null,
            "order": null,
            "_view_module_version": "1.2.0",
            "grid_template_areas": null,
            "object_position": null,
            "object_fit": null,
            "grid_auto_columns": null,
            "margin": null,
            "display": null,
            "left": null
          }
        },
        "c491870500ec4e608f264521c7cba1c6": {
          "model_module": "@jupyter-widgets/controls",
          "model_name": "DescriptionStyleModel",
          "state": {
            "_view_name": "StyleView",
            "_model_name": "DescriptionStyleModel",
            "description_width": "",
            "_view_module": "@jupyter-widgets/base",
            "_model_module_version": "1.5.0",
            "_view_count": null,
            "_view_module_version": "1.2.0",
            "_model_module": "@jupyter-widgets/controls"
          }
        },
        "9313c32a4df143d8a77df3ece0a7b469": {
          "model_module": "@jupyter-widgets/base",
          "model_name": "LayoutModel",
          "state": {
            "_view_name": "LayoutView",
            "grid_template_rows": null,
            "right": null,
            "justify_content": null,
            "_view_module": "@jupyter-widgets/base",
            "overflow": null,
            "_model_module_version": "1.2.0",
            "_view_count": null,
            "flex_flow": null,
            "width": null,
            "min_width": null,
            "border": null,
            "align_items": null,
            "bottom": null,
            "_model_module": "@jupyter-widgets/base",
            "top": null,
            "grid_column": null,
            "overflow_y": null,
            "overflow_x": null,
            "grid_auto_flow": null,
            "grid_area": null,
            "grid_template_columns": null,
            "flex": null,
            "_model_name": "LayoutModel",
            "justify_items": null,
            "grid_row": null,
            "max_height": null,
            "align_content": null,
            "visibility": null,
            "align_self": null,
            "height": null,
            "min_height": null,
            "padding": null,
            "grid_auto_rows": null,
            "grid_gap": null,
            "max_width": null,
            "order": null,
            "_view_module_version": "1.2.0",
            "grid_template_areas": null,
            "object_position": null,
            "object_fit": null,
            "grid_auto_columns": null,
            "margin": null,
            "display": null,
            "left": null
          }
        }
      }
    }
  },
  "cells": [
    {
      "cell_type": "code",
      "metadata": {
        "_uuid": "8f2839f25d086af736a60e9eeb907d3b93b6e0e5",
        "_cell_guid": "b1076dfc-b9ad-4769-8c92-a6c4dae69d19",
        "trusted": true,
        "colab": {
          "base_uri": "https://localhost:8080/"
        },
        "id": "Y9tZe8KkmOA7",
        "outputId": "6db0a8c9-1ee2-49b2-f516-e542f68eef8b"
      },
      "source": [
        "from google.colab import drive\n",
        "drive.mount('/content/gdrive')"
      ],
      "execution_count": null,
      "outputs": [
        {
          "output_type": "stream",
          "text": [
            "Mounted at /content/gdrive\n"
          ],
          "name": "stdout"
        }
      ]
    },
    {
      "cell_type": "code",
      "metadata": {
        "_kg_hide-output": true,
        "trusted": true,
        "id": "N4GNqqVSmOA9",
        "colab": {
          "base_uri": "https://localhost:8080/"
        },
        "outputId": "78c688fd-f499-44ff-8056-1b4a3b8a7052"
      },
      "source": [
        "!pip install efficientnet==1.1.0\n",
        "!pip install pydicom"
      ],
      "execution_count": null,
      "outputs": [
        {
          "output_type": "stream",
          "text": [
            "Collecting efficientnet==1.1.0\n",
            "  Downloading https://files.pythonhosted.org/packages/28/91/67848a143b54c331605bfba5fd31cf4e9db13d2e429d103fe807acc3bcf4/efficientnet-1.1.0-py3-none-any.whl\n",
            "Requirement already satisfied: scikit-image in /usr/local/lib/python3.6/dist-packages (from efficientnet==1.1.0) (0.16.2)\n",
            "Collecting keras-applications<=1.0.8,>=1.0.7\n",
            "\u001b[?25l  Downloading https://files.pythonhosted.org/packages/71/e3/19762fdfc62877ae9102edf6342d71b28fbfd9dea3d2f96a882ce099b03f/Keras_Applications-1.0.8-py3-none-any.whl (50kB)\n",
            "\r\u001b[K     |██████▌                         | 10kB 27.1MB/s eta 0:00:01\r\u001b[K     |█████████████                   | 20kB 33.9MB/s eta 0:00:01\r\u001b[K     |███████████████████▍            | 30kB 17.3MB/s eta 0:00:01\r\u001b[K     |█████████████████████████▉      | 40kB 16.5MB/s eta 0:00:01\r\u001b[K     |████████████████████████████████| 51kB 4.8MB/s \n",
            "\u001b[?25hRequirement already satisfied: imageio>=2.3.0 in /usr/local/lib/python3.6/dist-packages (from scikit-image->efficientnet==1.1.0) (2.4.1)\n",
            "Requirement already satisfied: PyWavelets>=0.4.0 in /usr/local/lib/python3.6/dist-packages (from scikit-image->efficientnet==1.1.0) (1.1.1)\n",
            "Requirement already satisfied: pillow>=4.3.0 in /usr/local/lib/python3.6/dist-packages (from scikit-image->efficientnet==1.1.0) (7.0.0)\n",
            "Requirement already satisfied: matplotlib!=3.0.0,>=2.0.0 in /usr/local/lib/python3.6/dist-packages (from scikit-image->efficientnet==1.1.0) (3.2.2)\n",
            "Requirement already satisfied: networkx>=2.0 in /usr/local/lib/python3.6/dist-packages (from scikit-image->efficientnet==1.1.0) (2.5)\n",
            "Requirement already satisfied: scipy>=0.19.0 in /usr/local/lib/python3.6/dist-packages (from scikit-image->efficientnet==1.1.0) (1.4.1)\n",
            "Requirement already satisfied: h5py in /usr/local/lib/python3.6/dist-packages (from keras-applications<=1.0.8,>=1.0.7->efficientnet==1.1.0) (2.10.0)\n",
            "Requirement already satisfied: numpy>=1.9.1 in /usr/local/lib/python3.6/dist-packages (from keras-applications<=1.0.8,>=1.0.7->efficientnet==1.1.0) (1.19.4)\n",
            "Requirement already satisfied: cycler>=0.10 in /usr/local/lib/python3.6/dist-packages (from matplotlib!=3.0.0,>=2.0.0->scikit-image->efficientnet==1.1.0) (0.10.0)\n",
            "Requirement already satisfied: python-dateutil>=2.1 in /usr/local/lib/python3.6/dist-packages (from matplotlib!=3.0.0,>=2.0.0->scikit-image->efficientnet==1.1.0) (2.8.1)\n",
            "Requirement already satisfied: kiwisolver>=1.0.1 in /usr/local/lib/python3.6/dist-packages (from matplotlib!=3.0.0,>=2.0.0->scikit-image->efficientnet==1.1.0) (1.3.1)\n",
            "Requirement already satisfied: pyparsing!=2.0.4,!=2.1.2,!=2.1.6,>=2.0.1 in /usr/local/lib/python3.6/dist-packages (from matplotlib!=3.0.0,>=2.0.0->scikit-image->efficientnet==1.1.0) (2.4.7)\n",
            "Requirement already satisfied: decorator>=4.3.0 in /usr/local/lib/python3.6/dist-packages (from networkx>=2.0->scikit-image->efficientnet==1.1.0) (4.4.2)\n",
            "Requirement already satisfied: six in /usr/local/lib/python3.6/dist-packages (from h5py->keras-applications<=1.0.8,>=1.0.7->efficientnet==1.1.0) (1.15.0)\n",
            "Installing collected packages: keras-applications, efficientnet\n",
            "Successfully installed efficientnet-1.1.0 keras-applications-1.0.8\n",
            "Collecting pydicom\n",
            "\u001b[?25l  Downloading https://files.pythonhosted.org/packages/f4/15/df16546bc59bfca390cf072d473fb2c8acd4231636f64356593a63137e55/pydicom-2.1.2-py3-none-any.whl (1.9MB)\n",
            "\u001b[K     |████████████████████████████████| 1.9MB 8.1MB/s \n",
            "\u001b[?25hInstalling collected packages: pydicom\n",
            "Successfully installed pydicom-2.1.2\n"
          ],
          "name": "stdout"
        }
      ]
    },
    {
      "cell_type": "code",
      "metadata": {
        "trusted": true,
        "id": "1xJO5Ws5mOA9"
      },
      "source": [
        "import numpy as np # linear algebra\n",
        "import pandas as pd # data processing, CSV file I/O (e.g. pd.read_csv)\n",
        "import os\n",
        "import cv2\n",
        "import pydicom\n",
        "import pandas as pd\n",
        "import numpy as np \n",
        "import tensorflow as tf \n",
        "import matplotlib.pyplot as plt \n",
        "from tqdm.notebook import tqdm \n",
        "from tensorflow.keras.layers import (\n",
        "    Dense, Dropout, Activation, Flatten, Input, BatchNormalization, GlobalAveragePooling2D, Add, Conv2D, AveragePooling2D, \n",
        "    LeakyReLU, Concatenate \n",
        ")\n",
        "from tensorflow.keras import Model\n",
        "from tensorflow.keras.utils import Sequence\n",
        "import tensorflow.keras.backend as K\n",
        "import tensorflow.keras.applications as tfa\n",
        "import efficientnet.tfkeras as efn\n",
        "from sklearn.model_selection import train_test_split, KFold\n",
        "import seaborn as sns"
      ],
      "execution_count": null,
      "outputs": []
    },
    {
      "cell_type": "code",
      "metadata": {
        "trusted": true,
        "id": "_NkNy08dmOA9"
      },
      "source": [
        "config = tf.compat.v1.ConfigProto()\n",
        "config.gpu_options.allow_growth = True\n",
        "session = tf.compat.v1.Session(config=config)"
      ],
      "execution_count": null,
      "outputs": []
    },
    {
      "cell_type": "code",
      "metadata": {
        "trusted": true,
        "id": "xEOzrGNSmOA9"
      },
      "source": [
        "EPOCHS = 30\n",
        "BATCH_SIZE = 4\n",
        "LR = 0.003\n",
        "SAVE_BEST = True\n",
        "MODEL_CLASS = 'b4'"
      ],
      "execution_count": null,
      "outputs": []
    },
    {
      "cell_type": "code",
      "metadata": {
        "trusted": true,
        "id": "CaEqzKHSmOA-"
      },
      "source": [
        "train = pd.read_csv('/content/gdrive/MyDrive/OSIC/train.csv') "
      ],
      "execution_count": null,
      "outputs": []
    },
    {
      "cell_type": "code",
      "metadata": {
        "trusted": true,
        "id": "7DWXAVs5mOA-",
        "colab": {
          "base_uri": "https://localhost:8080/",
          "height": 191
        },
        "outputId": "e7997a01-0595-4c76-cf53-0f85955ad8c4"
      },
      "source": [
        "train.head()\n"
      ],
      "execution_count": null,
      "outputs": [
        {
          "output_type": "execute_result",
          "data": {
            "text/html": [
              "<div>\n",
              "<style scoped>\n",
              "    .dataframe tbody tr th:only-of-type {\n",
              "        vertical-align: middle;\n",
              "    }\n",
              "\n",
              "    .dataframe tbody tr th {\n",
              "        vertical-align: top;\n",
              "    }\n",
              "\n",
              "    .dataframe thead th {\n",
              "        text-align: right;\n",
              "    }\n",
              "</style>\n",
              "<table border=\"1\" class=\"dataframe\">\n",
              "  <thead>\n",
              "    <tr style=\"text-align: right;\">\n",
              "      <th></th>\n",
              "      <th>Patient</th>\n",
              "      <th>Weeks</th>\n",
              "      <th>FVC</th>\n",
              "      <th>Percent</th>\n",
              "      <th>Age</th>\n",
              "      <th>Sex</th>\n",
              "      <th>SmokingStatus</th>\n",
              "    </tr>\n",
              "  </thead>\n",
              "  <tbody>\n",
              "    <tr>\n",
              "      <th>0</th>\n",
              "      <td>ID00007637202177411956430</td>\n",
              "      <td>-4</td>\n",
              "      <td>2315</td>\n",
              "      <td>58.253649</td>\n",
              "      <td>79</td>\n",
              "      <td>Male</td>\n",
              "      <td>Ex-smoker</td>\n",
              "    </tr>\n",
              "    <tr>\n",
              "      <th>1</th>\n",
              "      <td>ID00007637202177411956430</td>\n",
              "      <td>5</td>\n",
              "      <td>2214</td>\n",
              "      <td>55.712129</td>\n",
              "      <td>79</td>\n",
              "      <td>Male</td>\n",
              "      <td>Ex-smoker</td>\n",
              "    </tr>\n",
              "    <tr>\n",
              "      <th>2</th>\n",
              "      <td>ID00007637202177411956430</td>\n",
              "      <td>7</td>\n",
              "      <td>2061</td>\n",
              "      <td>51.862104</td>\n",
              "      <td>79</td>\n",
              "      <td>Male</td>\n",
              "      <td>Ex-smoker</td>\n",
              "    </tr>\n",
              "    <tr>\n",
              "      <th>3</th>\n",
              "      <td>ID00007637202177411956430</td>\n",
              "      <td>9</td>\n",
              "      <td>2144</td>\n",
              "      <td>53.950679</td>\n",
              "      <td>79</td>\n",
              "      <td>Male</td>\n",
              "      <td>Ex-smoker</td>\n",
              "    </tr>\n",
              "    <tr>\n",
              "      <th>4</th>\n",
              "      <td>ID00007637202177411956430</td>\n",
              "      <td>11</td>\n",
              "      <td>2069</td>\n",
              "      <td>52.063412</td>\n",
              "      <td>79</td>\n",
              "      <td>Male</td>\n",
              "      <td>Ex-smoker</td>\n",
              "    </tr>\n",
              "  </tbody>\n",
              "</table>\n",
              "</div>"
            ],
            "text/plain": [
              "                     Patient  Weeks   FVC    Percent  Age   Sex SmokingStatus\n",
              "0  ID00007637202177411956430     -4  2315  58.253649   79  Male     Ex-smoker\n",
              "1  ID00007637202177411956430      5  2214  55.712129   79  Male     Ex-smoker\n",
              "2  ID00007637202177411956430      7  2061  51.862104   79  Male     Ex-smoker\n",
              "3  ID00007637202177411956430      9  2144  53.950679   79  Male     Ex-smoker\n",
              "4  ID00007637202177411956430     11  2069  52.063412   79  Male     Ex-smoker"
            ]
          },
          "metadata": {
            "tags": []
          },
          "execution_count": 7
        }
      ]
    },
    {
      "cell_type": "code",
      "metadata": {
        "trusted": true,
        "id": "5xYD7Td3mOA-",
        "colab": {
          "base_uri": "https://localhost:8080/"
        },
        "outputId": "ae3a1d0f-aae9-4c02-d5df-ea32f7bec948"
      },
      "source": [
        "train.SmokingStatus.unique()"
      ],
      "execution_count": null,
      "outputs": [
        {
          "output_type": "execute_result",
          "data": {
            "text/plain": [
              "array(['Ex-smoker', 'Never smoked', 'Currently smokes'], dtype=object)"
            ]
          },
          "metadata": {
            "tags": []
          },
          "execution_count": 8
        }
      ]
    },
    {
      "cell_type": "code",
      "metadata": {
        "trusted": true,
        "id": "R5qaCq5umOA-"
      },
      "source": [
        "def get_tab(df):\n",
        "    vector = [(df.Age.values[0] - 30) / 30] \n",
        "    \n",
        "    if df.Sex.values[0].lower() == 'male':\n",
        "       vector.append(0)\n",
        "    else:\n",
        "       vector.append(1)\n",
        "    \n",
        "    if df.SmokingStatus.values[0] == 'Never smoked':\n",
        "        vector.extend([0,0])\n",
        "    elif df.SmokingStatus.values[0] == 'Ex-smoker':\n",
        "        vector.extend([1,1])\n",
        "    elif df.SmokingStatus.values[0] == 'Currently smokes':\n",
        "        vector.extend([0,1])\n",
        "    else:\n",
        "        vector.extend([1,0])\n",
        "    return np.array(vector) "
      ],
      "execution_count": null,
      "outputs": []
    },
    {
      "cell_type": "code",
      "metadata": {
        "trusted": true,
        "id": "j3OuFqS8mOA-",
        "colab": {
          "base_uri": "https://localhost:8080/",
          "height": 133,
          "referenced_widgets": [
            "e9f215204a2e4d069135dc24e97b4b0e",
            "bdc18161670a4c58bcd18c59dab5e318",
            "c2c3d906e27e4c2ab828dc5c87677b8b",
            "d4c34c306959424e979319c30812f623",
            "af2e1e306a2d42d6b4e0a84cce4b1e31",
            "6930a1544d674b80a820109ed99e66ac",
            "d9c1d44375f14dca8c0de58ebcc09eb4",
            "48f417ec5e134f34ae725c065d7ac92d"
          ]
        },
        "outputId": "76443084-5dea-49dc-947a-c31f12e1d658"
      },
      "source": [
        "A = {} \n",
        "TAB = {} \n",
        "P = [] \n",
        "for i, p in tqdm(enumerate(train.Patient.unique())):\n",
        "    sub = train.loc[train.Patient == p, :] \n",
        "    fvc = sub.FVC.values\n",
        "    weeks = sub.Weeks.values\n",
        "    c = np.vstack([weeks, np.ones(len(weeks))]).T\n",
        "    a, b = np.linalg.lstsq(c, fvc)[0]\n",
        "    \n",
        "    A[p] = a\n",
        "    TAB[p] = get_tab(sub)\n",
        "    P.append(p)"
      ],
      "execution_count": null,
      "outputs": [
        {
          "output_type": "display_data",
          "data": {
            "application/vnd.jupyter.widget-view+json": {
              "model_id": "e9f215204a2e4d069135dc24e97b4b0e",
              "version_minor": 0,
              "version_major": 2
            },
            "text/plain": [
              "HBox(children=(FloatProgress(value=1.0, bar_style='info', max=1.0), HTML(value='')))"
            ]
          },
          "metadata": {
            "tags": []
          }
        },
        {
          "output_type": "stream",
          "text": [
            "\n"
          ],
          "name": "stdout"
        },
        {
          "output_type": "stream",
          "text": [
            "/usr/local/lib/python3.6/dist-packages/ipykernel_launcher.py:9: FutureWarning: `rcond` parameter will change to the default of machine precision times ``max(M, N)`` where M and N are the input matrix dimensions.\n",
            "To use the future default and silence this warning we advise to pass `rcond=None`, to keep using the old, explicitly pass `rcond=-1`.\n",
            "  if __name__ == '__main__':\n"
          ],
          "name": "stderr"
        }
      ]
    },
    {
      "cell_type": "code",
      "metadata": {
        "trusted": true,
        "id": "66sI6YYWmOA-"
      },
      "source": [
        "def get_img(path):\n",
        "    d = pydicom.dcmread(path)\n",
        "    return cv2.resize((d.pixel_array - d.RescaleIntercept) / (d.RescaleSlope * 1000), (512, 512))"
      ],
      "execution_count": null,
      "outputs": []
    },
    {
      "cell_type": "code",
      "metadata": {
        "trusted": true,
        "id": "XYExYWPjmOA-",
        "colab": {
          "base_uri": "https://localhost:8080/",
          "height": 65,
          "referenced_widgets": [
            "8c534b138f7845bb93a15db955721799",
            "1eb1563c67d24490af72c3d9fd6a7c37",
            "b8609b8a5942471ab8d4525209419a64",
            "5814ca28b5374b68ae5f928da71e433d",
            "21d100363e58497fad7d284632f364be",
            "a6938402d8a944b99ecdc1b44a9b5a2e",
            "c491870500ec4e608f264521c7cba1c6",
            "9313c32a4df143d8a77df3ece0a7b469"
          ]
        },
        "outputId": "7c07fe16-c016-4360-e3a3-d13af458462b"
      },
      "source": [
        "x, y = [], []\n",
        "\n",
        "for p in tqdm(train.Patient.unique()):\n",
        "    try:\n",
        "        ldir = os.listdir(f'osic-pulmonary-fibrosis-progression-lungs-mask/mask_noise/mask_noise/{p}/')\n",
        "        numb = [float(i[:-4]) for i in ldir]\n",
        "        for i in ldir:\n",
        "            x.append(cv2.imread(f'osic-pulmonary-fibrosis-progression-lungs-mask/mask_noise/mask_noise/{p}/{i}', 0).mean())\n",
        "            y.append(float(i[:-4]) / max(numb))\n",
        "    except:\n",
        "        pass\n"
      ],
      "execution_count": null,
      "outputs": [
        {
          "output_type": "display_data",
          "data": {
            "application/vnd.jupyter.widget-view+json": {
              "model_id": "8c534b138f7845bb93a15db955721799",
              "version_minor": 0,
              "version_major": 2
            },
            "text/plain": [
              "HBox(children=(FloatProgress(value=0.0, max=176.0), HTML(value='')))"
            ]
          },
          "metadata": {
            "tags": []
          }
        },
        {
          "output_type": "stream",
          "text": [
            "\n"
          ],
          "name": "stdout"
        }
      ]
    },
    {
      "cell_type": "code",
      "metadata": {
        "colab": {
          "base_uri": "https://localhost:8080/"
        },
        "id": "3JAme1s1xo2C",
        "outputId": "7186b82d-5b84-4fc1-a4ea-21f14593556d"
      },
      "source": [
        "! yes | apt install libgl1-mesa-glx"
      ],
      "execution_count": null,
      "outputs": [
        {
          "output_type": "stream",
          "text": [
            "Reading package lists... Done\n",
            "Building dependency tree       \n",
            "Reading state information... Done\n",
            "The following NEW packages will be installed:\n",
            "  libgl1-mesa-glx\n",
            "0 upgraded, 1 newly installed, 0 to remove and 15 not upgraded.\n",
            "Need to get 5,532 B of archives.\n",
            "After this operation, 79.9 kB of additional disk space will be used.\n",
            "Get:1 http://archive.ubuntu.com/ubuntu bionic-updates/main amd64 libgl1-mesa-glx amd64 20.0.8-0ubuntu1~18.04.1 [5,532 B]\n",
            "Fetched 5,532 B in 0s (19.8 kB/s)\n",
            "Selecting previously unselected package libgl1-mesa-glx:amd64.\n",
            "(Reading database ... 145480 files and directories currently installed.)\n",
            "Preparing to unpack .../libgl1-mesa-glx_20.0.8-0ubuntu1~18.04.1_amd64.deb ...\n",
            "Unpacking libgl1-mesa-glx:amd64 (20.0.8-0ubuntu1~18.04.1) ...\n",
            "Setting up libgl1-mesa-glx:amd64 (20.0.8-0ubuntu1~18.04.1) ...\n"
          ],
          "name": "stdout"
        }
      ]
    },
    {
      "cell_type": "code",
      "metadata": {
        "trusted": true,
        "id": "d8-RKuAAmOA-"
      },
      "source": [
        "class IGenerator(Sequence):\n",
        "    BAD_ID = ['ID00011637202177653955184', 'ID00052637202186188008618']\n",
        "    def __init__(self, keys, a, tab, batch_size=BATCH_SIZE):\n",
        "        self.keys = [k for k in keys if k not in self.BAD_ID]\n",
        "        self.a = a\n",
        "        self.tab = tab\n",
        "        self.batch_size = batch_size\n",
        "        \n",
        "        self.train_data = {}\n",
        "        for p in train.Patient.values:\n",
        "            self.train_data[p] = os.listdir(f'/content/gdrive/MyDrive/OSIC/train/{p}/')\n",
        "    \n",
        "    def __len__(self):\n",
        "        return 1000\n",
        "    \n",
        "    def __getitem__(self, idx):\n",
        "        x = []\n",
        "        a, tab = [], [] \n",
        "        keys = np.random.choice(self.keys, size = self.batch_size)\n",
        "        for k in keys:\n",
        "            try:\n",
        "                i = np.random.choice(self.train_data[k], size=1)[0]\n",
        "                img = get_img(f'/content/gdrive/MyDrive/OSIC/train/{k}/{i}')\n",
        "                x.append(img)\n",
        "                a.append(self.a[k])\n",
        "                tab.append(self.tab[k])\n",
        "            except:\n",
        "                print(k, i)\n",
        "       \n",
        "        x,a,tab = np.array(x), np.array(a), np.array(tab)\n",
        "        x = np.expand_dims(x, axis=-1)\n",
        "        return [x, tab] , a"
      ],
      "execution_count": null,
      "outputs": []
    },
    {
      "cell_type": "code",
      "metadata": {
        "trusted": true,
        "id": "uuzy6J8tmOA-"
      },
      "source": [
        "def get_efficientnet(model, shape):\n",
        "    models_dict = {\n",
        "        'b0': efn.EfficientNetB0(input_shape=shape,weights=None,include_top=False),\n",
        "        'b1': efn.EfficientNetB1(input_shape=shape,weights=None,include_top=False),\n",
        "        'b2': efn.EfficientNetB2(input_shape=shape,weights=None,include_top=False),\n",
        "        'b3': efn.EfficientNetB3(input_shape=shape,weights=None,include_top=False),\n",
        "        'b4': efn.EfficientNetB4(input_shape=shape,weights=None,include_top=False),\n",
        "        'b5': efn.EfficientNetB5(input_shape=shape,weights=None,include_top=False),\n",
        "        'b6': efn.EfficientNetB6(input_shape=shape,weights=None,include_top=False),\n",
        "        'b7': efn.EfficientNetB7(input_shape=shape,weights=None,include_top=False)\n",
        "    }\n",
        "    return models_dict[model]\n",
        "\n",
        "def build_model(shape=(512, 512, 1), model_class=None):\n",
        "    inp = Input(shape=shape)\n",
        "    base = get_efficientnet(model_class, shape)\n",
        "    x = base(inp)\n",
        "    x = GlobalAveragePooling2D()(x)\n",
        "    inp2 = Input(shape=(4,))\n",
        "    x2 = tf.keras.layers.GaussianNoise(0.2)(inp2)\n",
        "    x = Concatenate()([x, x2]) \n",
        "    x = Dropout(0.5)(x) \n",
        "    x = Dense(1)(x)\n",
        "    model = Model([inp, inp2] , x)\n",
        "    return model"
      ],
      "execution_count": null,
      "outputs": []
    },
    {
      "cell_type": "code",
      "metadata": {
        "trusted": true,
        "id": "j9Jfz1YMmOA-",
        "colab": {
          "base_uri": "https://localhost:8080/"
        },
        "outputId": "4fc4777f-d16c-43d0-e2a2-a8fbfdc183a4"
      },
      "source": [
        "P = np.array(P)\n",
        "subs = []\n",
        "folds_history = []\n",
        "    \n",
        "er = tf.keras.callbacks.EarlyStopping(\n",
        "    monitor=\"val_loss\",\n",
        "    min_delta=1e-3,\n",
        "    patience=10,\n",
        "    verbose=1,\n",
        "    mode=\"auto\",\n",
        "    baseline=None,\n",
        "    restore_best_weights=True,\n",
        ")\n",
        "\n",
        "cpt = tf.keras.callbacks.ModelCheckpoint(\n",
        "    filepath=f'effnet_epoch_{EPOCHS}_batchsize_{BATCH_SIZE}.h5',\n",
        "    monitor='val_loss', \n",
        "    verbose=1, \n",
        "    save_best_only=SAVE_BEST,\n",
        "    mode='auto'\n",
        ")\n",
        "\n",
        "rlp = tf.keras.callbacks.ReduceLROnPlateau(\n",
        "    monitor='val_loss', \n",
        "    factor=0.5,\n",
        "    patience=5, \n",
        "    verbose=1, \n",
        "    min_lr=1e-8\n",
        ")\n",
        "model = build_model(model_class= MODEL_CLASS)\n",
        "#Loss function is Absolute Errors Loss\n",
        "#coss function is Mean- Absolute Errors\n",
        "model.compile(optimizer=tf.keras.optimizers.Adam(learning_rate=LR), loss=\"mae\") \n",
        "history = model.fit_generator(IGenerator(keys=P, \n",
        "                               a = A, \n",
        "                               tab = TAB), \n",
        "                    steps_per_epoch = 32,\n",
        "                    validation_data=IGenerator(keys=P, \n",
        "                               a = A, \n",
        "                               tab = TAB),\n",
        "                    validation_steps = 16, \n",
        "                    callbacks = [cpt, rlp], \n",
        "                    epochs= EPOCHS)\n",
        "folds_history.append(history.history)\n",
        "print('Training done!')"
      ],
      "execution_count": null,
      "outputs": [
        {
          "output_type": "stream",
          "text": [
            "/usr/local/lib/python3.6/dist-packages/tensorflow/python/keras/engine/training.py:1844: UserWarning: `Model.fit_generator` is deprecated and will be removed in a future version. Please use `Model.fit`, which supports generators.\n",
            "  warnings.warn('`Model.fit_generator` is deprecated and '\n"
          ],
          "name": "stderr"
        },
        {
          "output_type": "stream",
          "text": [
            "Epoch 1/30\n",
            "32/32 [==============================] - 124s 3s/step - loss: 4.7878 - val_loss: 40101.8555\n",
            "\n",
            "Epoch 00001: val_loss improved from inf to 40101.85547, saving model to effnet_epoch_30_batchsize_4.h5\n",
            "Epoch 2/30\n",
            "32/32 [==============================] - 92s 3s/step - loss: 4.6524 - val_loss: 6933068.0000\n",
            "\n",
            "Epoch 00002: val_loss did not improve from 40101.85547\n",
            "Epoch 3/30\n",
            "32/32 [==============================] - 89s 3s/step - loss: 4.0578 - val_loss: 425792.3438\n",
            "\n",
            "Epoch 00003: val_loss did not improve from 40101.85547\n",
            "Epoch 4/30\n",
            "32/32 [==============================] - 86s 3s/step - loss: 4.4102 - val_loss: 60345.7969\n",
            "\n",
            "Epoch 00004: val_loss did not improve from 40101.85547\n",
            "Epoch 5/30\n",
            "32/32 [==============================] - 81s 3s/step - loss: 4.7113 - val_loss: 27664136.0000\n",
            "\n",
            "Epoch 00005: val_loss did not improve from 40101.85547\n",
            "Epoch 6/30\n",
            "32/32 [==============================] - 81s 3s/step - loss: 4.4650 - val_loss: 1431.3806\n",
            "\n",
            "Epoch 00006: val_loss improved from 40101.85547 to 1431.38062, saving model to effnet_epoch_30_batchsize_4.h5\n",
            "Epoch 7/30\n",
            "32/32 [==============================] - 76s 2s/step - loss: 4.0645 - val_loss: 173.9286\n",
            "\n",
            "Epoch 00007: val_loss improved from 1431.38062 to 173.92856, saving model to effnet_epoch_30_batchsize_4.h5\n",
            "Epoch 8/30\n",
            "32/32 [==============================] - 77s 2s/step - loss: 4.8245 - val_loss: 3.6046\n",
            "\n",
            "Epoch 00008: val_loss improved from 173.92856 to 3.60458, saving model to effnet_epoch_30_batchsize_4.h5\n",
            "Epoch 9/30\n",
            "32/32 [==============================] - 69s 2s/step - loss: 4.4506 - val_loss: 4.4436\n",
            "\n",
            "Epoch 00009: val_loss did not improve from 3.60458\n",
            "Epoch 10/30\n",
            "32/32 [==============================] - 74s 2s/step - loss: 4.4477 - val_loss: 5.0648\n",
            "\n",
            "Epoch 00010: val_loss did not improve from 3.60458\n",
            "Epoch 11/30\n",
            "32/32 [==============================] - 68s 2s/step - loss: 5.7227 - val_loss: 12.4238\n",
            "\n",
            "Epoch 00011: val_loss did not improve from 3.60458\n",
            "Epoch 12/30\n",
            "32/32 [==============================] - 70s 2s/step - loss: 4.9560 - val_loss: 17.6273\n",
            "\n",
            "Epoch 00012: val_loss did not improve from 3.60458\n",
            "Epoch 13/30\n",
            "32/32 [==============================] - 67s 2s/step - loss: 3.6528 - val_loss: 17.9829\n",
            "\n",
            "Epoch 00013: val_loss did not improve from 3.60458\n",
            "\n",
            "Epoch 00013: ReduceLROnPlateau reducing learning rate to 0.001500000013038516.\n",
            "Epoch 14/30\n",
            "32/32 [==============================] - 66s 2s/step - loss: 4.0363 - val_loss: 13.6903\n",
            "\n",
            "Epoch 00014: val_loss did not improve from 3.60458\n",
            "Epoch 15/30\n",
            "32/32 [==============================] - 66s 2s/step - loss: 3.7879 - val_loss: 4.9133\n",
            "\n",
            "Epoch 00015: val_loss did not improve from 3.60458\n",
            "Epoch 16/30\n",
            "32/32 [==============================] - 64s 2s/step - loss: 5.4073 - val_loss: 29.6961\n",
            "\n",
            "Epoch 00016: val_loss did not improve from 3.60458\n",
            "Epoch 17/30\n",
            "32/32 [==============================] - 62s 2s/step - loss: 4.4888 - val_loss: 5.0440\n",
            "\n",
            "Epoch 00017: val_loss did not improve from 3.60458\n",
            "Epoch 18/30\n",
            "32/32 [==============================] - 59s 2s/step - loss: 3.9897 - val_loss: 4.6642\n",
            "\n",
            "Epoch 00018: val_loss did not improve from 3.60458\n",
            "\n",
            "Epoch 00018: ReduceLROnPlateau reducing learning rate to 0.000750000006519258.\n",
            "Epoch 19/30\n",
            "32/32 [==============================] - 60s 2s/step - loss: 4.7054 - val_loss: 4.1053\n",
            "\n",
            "Epoch 00019: val_loss did not improve from 3.60458\n",
            "Epoch 20/30\n",
            "32/32 [==============================] - 63s 2s/step - loss: 4.5942 - val_loss: 4.0290\n",
            "\n",
            "Epoch 00020: val_loss did not improve from 3.60458\n",
            "Epoch 21/30\n",
            "32/32 [==============================] - 59s 2s/step - loss: 4.6980 - val_loss: 5.6766\n",
            "\n",
            "Epoch 00021: val_loss did not improve from 3.60458\n",
            "Epoch 22/30\n",
            "32/32 [==============================] - 61s 2s/step - loss: 4.0148 - val_loss: 5.4477\n",
            "\n",
            "Epoch 00022: val_loss did not improve from 3.60458\n",
            "Epoch 23/30\n",
            "32/32 [==============================] - 54s 2s/step - loss: 3.7887 - val_loss: 4.4535\n",
            "\n",
            "Epoch 00023: val_loss did not improve from 3.60458\n",
            "\n",
            "Epoch 00023: ReduceLROnPlateau reducing learning rate to 0.000375000003259629.\n",
            "Epoch 24/30\n",
            "32/32 [==============================] - 58s 2s/step - loss: 5.3219 - val_loss: 4.1562\n",
            "\n",
            "Epoch 00024: val_loss did not improve from 3.60458\n",
            "Epoch 25/30\n",
            "32/32 [==============================] - 56s 2s/step - loss: 5.5363 - val_loss: 3.9318\n",
            "\n",
            "Epoch 00025: val_loss did not improve from 3.60458\n",
            "Epoch 26/30\n",
            "32/32 [==============================] - 56s 2s/step - loss: 4.4714 - val_loss: 3.7964\n",
            "\n",
            "Epoch 00026: val_loss did not improve from 3.60458\n",
            "Epoch 27/30\n",
            "32/32 [==============================] - 53s 2s/step - loss: 4.1235 - val_loss: 5.4642\n",
            "\n",
            "Epoch 00027: val_loss did not improve from 3.60458\n",
            "Epoch 28/30\n",
            "32/32 [==============================] - 52s 2s/step - loss: 3.9753 - val_loss: 5.0566\n",
            "\n",
            "Epoch 00028: val_loss did not improve from 3.60458\n",
            "\n",
            "Epoch 00028: ReduceLROnPlateau reducing learning rate to 0.0001875000016298145.\n",
            "Epoch 29/30\n",
            "32/32 [==============================] - 57s 2s/step - loss: 3.8453 - val_loss: 4.1607\n",
            "\n",
            "Epoch 00029: val_loss did not improve from 3.60458\n",
            "Epoch 30/30\n",
            "32/32 [==============================] - 53s 2s/step - loss: 3.8098 - val_loss: 4.2471\n",
            "\n",
            "Epoch 00030: val_loss did not improve from 3.60458\n",
            "Training done!\n"
          ],
          "name": "stdout"
        }
      ]
    }
  ]
}